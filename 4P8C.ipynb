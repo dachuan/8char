{
 "cells": [
  {
   "cell_type": "markdown",
   "metadata": {},
   "source": [
    "## 实现一个最简单的4柱八字计算器"
   ]
  },
  {
   "cell_type": "code",
   "execution_count": null,
   "metadata": {},
   "outputs": [],
   "source": [
    "!pip install lunar_python"
   ]
  },
  {
   "cell_type": "markdown",
   "metadata": {},
   "source": [
    "### API调用"
   ]
  },
  {
   "cell_type": "code",
   "execution_count": 1,
   "metadata": {
    "collapsed": true,
    "jupyter": {
     "outputs_hidden": true,
     "source_hidden": true
    }
   },
   "outputs": [
    {
     "name": "stdout",
     "output_type": "stream",
     "text": [
      "{'甲甲': '比肩', '甲乙': '劫财', '甲丙': '食神', '甲丁': '伤官', '甲戊': '偏财', '甲己': '正财', '甲庚': '七杀', '甲辛': '正官', '甲壬': '偏印', '甲癸': '正印', '乙乙': '比肩', '乙甲': '劫财', '乙丁': '食神', '乙丙': '伤官', '乙己': '偏财', '乙戊': '正财', '乙辛': '七杀', '乙庚': '正官', '乙癸': '偏印', '乙壬': '正印', '丙丙': '比肩', '丙丁': '劫财', '丙戊': '食神', '丙己': '伤官', '丙庚': '偏财', '丙辛': '正财', '丙壬': '七杀', '丙癸': '正官', '丙甲': '偏印', '丙乙': '正印', '丁丁': '比肩', '丁丙': '劫财', '丁己': '食神', '丁戊': '伤官', '丁辛': '偏财', '丁庚': '正财', '丁癸': '七杀', '丁壬': '正官', '丁乙': '偏印', '丁甲': '正印', '戊戊': '比肩', '戊己': '劫财', '戊庚': '食神', '戊辛': '伤官', '戊壬': '偏财', '戊癸': '正财', '戊甲': '七杀', '戊乙': '正官', '戊丙': '偏印', '戊丁': '正印', '己己': '比肩', '己戊': '劫财', '己辛': '食神', '己庚': '伤官', '己癸': '偏财', '己壬': '正财', '己乙': '七杀', '己甲': '正官', '己丁': '偏印', '己丙': '正印', '庚庚': '比肩', '庚辛': '劫财', '庚壬': '食神', '庚癸': '伤官', '庚甲': '偏财', '庚乙': '正财', '庚丙': '七杀', '庚丁': '正官', '庚戊': '偏印', '庚己': '正印', '辛辛': '比肩', '辛庚': '劫财', '辛癸': '食神', '辛壬': '伤官', '辛乙': '偏财', '辛甲': '正财', '辛丁': '七杀', '辛丙': '正官', '辛己': '偏印', '辛戊': '正印', '壬壬': '比肩', '壬癸': '劫财', '壬甲': '食神', '壬乙': '伤官', '壬丙': '偏财', '壬丁': '正财', '壬戊': '七杀', '壬己': '正官', '壬庚': '偏印', '壬辛': '正印', '癸癸': '比肩', '癸壬': '劫财', '癸乙': '食神', '癸甲': '伤官', '癸丁': '偏财', '癸丙': '正财', '癸己': '七杀', '癸戊': '正官', '癸辛': '偏印', '癸庚': '正印'}\n",
      "比肩\n",
      "['比肩', '劫财']\n"
     ]
    }
   ],
   "source": [
    "from lunar_python.util import LunarUtil\n",
    "print(LunarUtil.SHI_SHEN)\n",
    "print(LunarUtil.SHI_SHEN[\"甲甲\"])\n",
    "\n",
    "# 定义十神计算函数\n",
    "def getShishen(daygan,gans):\n",
    "    shens =[]\n",
    "    for gan in gans:\n",
    "        _gg = daygan+gan\n",
    "        _shen = LunarUtil.SHI_SHEN[_gg]\n",
    "        shens.append(_shen)\n",
    "    return shens\n",
    "\n",
    "print(getShishen(\"甲\", [\"甲\",\"乙\"]))"
   ]
  },
  {
   "cell_type": "markdown",
   "metadata": {},
   "source": [
    "### 四柱八字计算器"
   ]
  },
  {
   "cell_type": "code",
   "execution_count": 13,
   "metadata": {},
   "outputs": [
    {
     "data": {
      "application/vnd.jupyter.widget-view+json": {
       "model_id": "48a9ef4cf9764d05aab9b81844dc0899",
       "version_major": 2,
       "version_minor": 0
      },
      "text/plain": [
       "HBox(children=(VBox(children=(HTML(value='年干神', layout=Layout(height='30px', width='50px')), Text(value='甲', l…"
      ]
     },
     "metadata": {},
     "output_type": "display_data"
    },
    {
     "data": {
      "application/vnd.jupyter.widget-view+json": {
       "model_id": "d6cab6fb00f74f66bd1120d850039e07",
       "version_major": 2,
       "version_minor": 0
      },
      "text/plain": [
       "Button(description='更新十神', style=ButtonStyle())"
      ]
     },
     "metadata": {},
     "output_type": "display_data"
    }
   ],
   "source": [
    "from ipywidgets import HBox, VBox, Text, HTML, Button\n",
    "from IPython.display import display\n",
    "from lunar_python.util import LunarUtil\n",
    "\n",
    "\n",
    "# 创建文本框\n",
    "texts = [[HTML(value='年干神', layout=dict(width='50px', height='30px')),\n",
    "          Text(value='甲', layout=dict(width='50px', height='20px')),\n",
    "          Text(value='寅', layout=dict(width='50px', height='20px')),\n",
    "          HTML(value='年支神', layout=dict(width='50px', height='90px'))],\n",
    "         [HTML(value='月干神', layout=dict(width='50px', height='30px')),\n",
    "          Text(value='甲', layout=dict(width='50px', height='20px')),\n",
    "          Text(value='子', layout=dict(width='50px', height='20px')),\n",
    "          HTML(value='月支神', layout=dict(width='50px', height='90px'))],\n",
    "         [HTML(value='日干神', layout=dict(width='50px', height='30px')),\n",
    "          Text(value='甲', layout=dict(width='50px', height='20px')),\n",
    "          Text(value='辰', layout=dict(width='50px', height='20px')),\n",
    "          HTML(value='日支神', layout=dict(width='50px', height='90px'))],\n",
    "         [HTML(value='时干神', layout=dict(width='50px', height='30px')),\n",
    "          Text(value='乙', layout=dict(width='50px', height='20px')),\n",
    "          Text(value='丑', layout=dict(width='50px', height='20px')),\n",
    "          HTML(value='时支神', layout=dict(width='50px', height='90px'))]]\n",
    "\n",
    "# 创建垂直布局\n",
    "vboxes = [VBox(text, layout=dict(width='60px')) for text in texts]\n",
    "hbox = HBox(vboxes, layout=dict(height='200px'))\n",
    "\n",
    "# 创建按钮\n",
    "button = Button(description='更新十神')\n",
    "\n",
    "# 显示布局\n",
    "display(hbox)\n",
    "display(button)\n",
    "\n",
    "# 定义十神计算函数\n",
    "def get_shishen(daygan, gans):\n",
    "    shens = []\n",
    "    for gan in gans:\n",
    "        _gg = daygan + gan\n",
    "        _shen = LunarUtil.SHI_SHEN[_gg]\n",
    "        shens.append(_shen)\n",
    "    return shens\n",
    "\n",
    "# 获取五行属性\n",
    "# 获取五行属性\n",
    "def get_wuxing(zhigan):\n",
    "    try:\n",
    "        return LunarUtil.WU_XING_GAN[zhigan]\n",
    "    except KeyError:\n",
    "        return LunarUtil.WU_XING_ZHI[zhigan]\n",
    "    \n",
    "# 五行颜色\n",
    "def color_wuxing(wuxing):\n",
    "    dict = {'金': 'gold', '木': 'green', '水': 'blue', '火': 'red', '土': 'brown'}\n",
    "    color = dict.get(wuxing)\n",
    "    return color     \n",
    "\n",
    "# 定义回调函数\n",
    "def update_text(i):\n",
    "    daygan = texts[2][1].value\n",
    "    zhi = texts[i][2].value\n",
    "    gan = texts[i][1].value\n",
    "    # gan\n",
    "    texts[i][0].value = get_shishen(daygan, [gan])[0]\n",
    "    # cang gan\n",
    "    gans = LunarUtil.ZHI_HIDE_GAN[zhi]\n",
    "    shens = get_shishen(daygan, gans)\n",
    "    texts[i][3].value = '<br>'.join(shens)\n",
    "    # rizhu\n",
    "    texts[2][0].value = \"日主\"\n",
    "    # 更新颜色\n",
    "    for i in range(4):\n",
    "        for j in range(1,3):\n",
    "            wuxing = get_wuxing(texts[i][j].value)\n",
    "            color = color_wuxing(wuxing)\n",
    "            texts[i][j].style = {'text_color':color}\n",
    "\n",
    "# 按钮点击事件\n",
    "def on_button_clicked(b):\n",
    "    for i in range(4):\n",
    "        update_text(i)\n",
    "\n",
    "# 监听按钮点击事件\n",
    "button.on_click(on_button_clicked)\n"
   ]
  },
  {
   "cell_type": "code",
   "execution_count": null,
   "metadata": {},
   "outputs": [],
   "source": []
  }
 ],
 "metadata": {
  "kernelspec": {
   "display_name": "Python 3 (ipykernel)",
   "language": "python",
   "name": "python3"
  },
  "language_info": {
   "codemirror_mode": {
    "name": "ipython",
    "version": 3
   },
   "file_extension": ".py",
   "mimetype": "text/x-python",
   "name": "python",
   "nbconvert_exporter": "python",
   "pygments_lexer": "ipython3",
   "version": "3.9.18"
  }
 },
 "nbformat": 4,
 "nbformat_minor": 4
}
